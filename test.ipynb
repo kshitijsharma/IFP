{
 "cells": [
  {
   "cell_type": "code",
   "execution_count": 36,
   "metadata": {},
   "outputs": [
    {
     "name": "stdout",
     "output_type": "stream",
     "text": [
      "Will use tool 'Tesseract (sh)'\n",
      "Available languages: eng, osd\n",
      "Will use lang 'eng'\n"
     ]
    }
   ],
   "source": [
    "from PIL import Image\n",
    "import sys\n",
    "import pytesseract\n",
    "import pyocr\n",
    "import pyocr.builders\n",
    "\n",
    "tools = pyocr.get_available_tools()\n",
    "if len(tools) == 0:\n",
    "    print(\"No OCR tool found\")\n",
    "    sys.exit(1)\n",
    "# The tools are returned in the recommended order of usage\n",
    "tool = tools[0]\n",
    "print(\"Will use tool '%s'\" % (tool.get_name()))\n",
    "# Ex: Will use tool 'libtesseract'\n",
    "\n",
    "langs = tool.get_available_languages()\n",
    "print(\"Available languages: %s\" % \", \".join(langs))\n",
    "lang = langs[0]\n",
    "print(\"Will use lang '%s'\" % (lang))\n",
    "# Ex: Will use lang 'fra'\n",
    "# Note that languages are NOT sorted in any way. Please refer\n",
    "# to the system locale settings for the default language\n",
    "# to use.\n"
   ]
  },
  {
   "cell_type": "code",
   "execution_count": 95,
   "metadata": {},
   "outputs": [],
   "source": [
    "img_file = '5.jpeg'\n",
    "txt = tool.image_to_string(\n",
    "    Image.open(img_file),\n",
    "    lang=lang,\n",
    "    builder=pyocr.builders.TextBuilder()\n",
    ")\n"
   ]
  },
  {
   "cell_type": "code",
   "execution_count": 96,
   "metadata": {},
   "outputs": [],
   "source": [
    "word_boxes = tool.image_to_string(\n",
    "    Image.open(img_file),\n",
    "    lang=\"eng\",\n",
    "    builder=pyocr.builders.WordBoxBuilder()\n",
    ")"
   ]
  },
  {
   "cell_type": "code",
   "execution_count": 97,
   "metadata": {},
   "outputs": [],
   "source": [
    "line_and_word_boxes = tool.image_to_string(\n",
    "    Image.open(img_file), lang=\"eng\",\n",
    "    builder=pyocr.builders.LineBoxBuilder()\n",
    ")\n"
   ]
  },
  {
   "cell_type": "code",
   "execution_count": 98,
   "metadata": {},
   "outputs": [
    {
     "name": "stdout",
     "output_type": "stream",
     "text": [
      "Orientation: {'angle': 0, 'confidence': 10.43}\n"
     ]
    }
   ],
   "source": [
    "if tool.can_detect_orientation():\n",
    "    try:\n",
    "        orientation = tool.detect_orientation(\n",
    "            Image.open(img_file),\n",
    "            lang='eng'\n",
    "        )\n",
    "    except pyocr.PyocrException as exc:\n",
    "        print(\"Orientation detection failed: {}\".format(exc))\n",
    "print(\"Orientation: {}\".format(orientation))\n"
   ]
  },
  {
   "cell_type": "code",
   "execution_count": 99,
   "metadata": {},
   "outputs": [],
   "source": [
    "import codecs\n",
    "import pyocr\n",
    "import pyocr.builders\n",
    "\n",
    "tool = pyocr.get_available_tools()[0]\n",
    "builder = pyocr.builders.TextBuilder()\n",
    "\n",
    "txt = tool.image_to_string(\n",
    "    Image.open(img_file),\n",
    "    lang=lang,\n",
    "    builder=builder\n",
    ")\n",
    "# txt is a Python string\n",
    "\n",
    "with codecs.open(\"toto.txt\", 'w', encoding='utf-8') as file_descriptor:\n",
    "    builder.write_file(file_descriptor, txt)\n",
    "# toto.txt is a simple text file, encoded in utf-8\n"
   ]
  },
  {
   "cell_type": "code",
   "execution_count": 100,
   "metadata": {},
   "outputs": [],
   "source": [
    "import codecs\n",
    "import pyocr.builders\n",
    "\n",
    "builder = pyocr.builders.TextBuilder()\n",
    "with codecs.open(\"toto.txt\", 'r', encoding='utf-8') as file_descriptor:\n",
    "    txt = builder.read_file(file_descriptor)\n"
   ]
  },
  {
   "cell_type": "code",
   "execution_count": 101,
   "metadata": {
    "scrolled": true
   },
   "outputs": [
    {
     "name": "stdout",
     "output_type": "stream",
     "text": [
      "Because I don’t. I see a woman born into wealth, a woman\n",
      "married into wealth, a woman who considers wealth — obscene\n",
      "wealth — to be her God-given right.’\n",
      "\n",
      "Up in the gallery, John Merrivale whispered to his wife.\n",
      "\n",
      "‘This isn’t a I-legal argument. It’s a witch hunt.’\n",
      "\n",
      "The district attorney went on.\n",
      "\n",
      "‘Grace Brookstein was a partner in Quorum. An equal\n",
      "equity partner. She was not only legally responsible for the\n",
      "fund's actions. She was morally responsible for them. Make\n",
      "no mistake. Grace Brookstein knew what her husband was\n",
      "doing. And she supported and encouraged him every step of\n",
      "the way.\n",
      "\n",
      "‘Don't let the complexity of this case fool you, ladies and\n",
      "gentlemen. Underneath all the jargon and paperwork, all the\n",
      "offshore bank accounts and derivative transactions, what\n",
      "happened here is really very simple. Grace Brookstein stole.\n",
      "She stole because she was greedy. She stole because she\n",
      "thought she could get away with it.’\n",
      "\n",
      "He looked at Grace one last time.\n",
      "\n",
      "‘She still thinks she can get away with it. It’s up to you\n",
      "to prove her wrong.’\n",
      "\n",
      "Grace Brookstein watched District Attorney Angelo\n",
      "Michele sit down. He’d given a bravura performance, far\n",
      "more eloquent than Frank Hammond's. The jury looked as\n",
      "if they wanted to burst into spontancous applause.\n",
      "\n",
      "If be weren't trying to destroy me, I'd feel sorry for him.\n",
      "Poor man, he’s tried so hard. And such passion! Perhaps, if\n",
      "we'd met in other circumstances, we'd have been friends?\n",
      "\n",
      "The general consensus in the media was that the jury would\n",
      "take at least a day to deliberate. The mountain of evidence\n",
      "in the case was so enormous that it was hard to see how\n",
      "they could review it any quicker. In fact, they came back to\n",
      "\n",
      "Court 14 in less than an hour, Just like Frank Hammond\n",
      "said they would.\n"
     ]
    }
   ],
   "source": [
    "print(txt)"
   ]
  },
  {
   "cell_type": "code",
   "execution_count": null,
   "metadata": {},
   "outputs": [],
   "source": [
    "\n",
    "born into wealth, a woman\n",
    "\n",
    "*t. I see a woman\n",
    "ed o. at, a woman who considers wealth - obscene\n",
    "; ‘wealth — to be her God-given right.” ‘\n",
    "e in the gallery, John Merrivale whispered to his wife.\n",
    "i ument. It’s a witch hunt.’\n",
    "\n",
    "‘This isn’t a |-legal arg\n",
    "The district attorney went on.\n",
    "\n",
    "“Grace Brookstein was 2 part .\n",
    "equity partner. She was not only legally responsible for the\n",
    "\n",
    "fund’s actions. She was morally responsible for them. Make\n",
    "no mistake. Grace Brookstein knew what her husband was\n",
    "doing. And she supported and encouraged him every step of\n",
    "the way.\n",
    "E ‘Don’t let the complexity of thi\n",
    "gentlemen. Underneath all the jargon and paperwork, all the\n",
    "\n",
    "offshore bank accounts and derivative transactions, what\n",
    "happened here is really very simple. Grace Brookstein stole.\n",
    "She stole because she was greedy. She stole because she\n",
    "thought she could get away with it.”\n",
    "\n",
    "He looked at Grace one last time.\n",
    "\n",
    "She still thinks she can get away with it. It’s up to you\n",
    "to prove her wrong.’\n",
    "\n",
    "Grace Brookstein watched District Attorney Angelo\n",
    "Michele sit down. He’d given a bravura performance, far\n",
    "more eloquent than Frank Hammond’s. The jury looked as\n",
    "if they wanted to burst into spontaneous applause.\n",
    "\n",
    "If he weren't trying to destroy me, I’d feel sorry for him.\n",
    "Poor man, he’s tried so hard. And such passion! Perhaps, if\n",
    "__ we'd met in other circumstances, we’d have been friends?\n",
    "\n",
    ", ae consensus in the media was that the jury would\n",
    "\n",
    "al a day to deliberate. The mountain of evidence\n",
    "cae was so enormous that it was hard to see how\n",
    "review it any quicker. In fact, they came back to\n",
    "in less than an hour, Just like Frank Hammond\n",
    "\n",
    "ner in Quorum. An equal\n",
    "\n",
    " \n",
    "\n",
    "s case fool you, ladies and\n",
    "\n",
    "\n",
    "\n",
    "\n",
    "\n",
    "\n",
    "\n",
    "\n",
    "\n",
    "\n",
    "\n",
    "\n",
    "\n",
    "\n",
    "\n",
    "\n",
    "\n",
    "\n"
   ]
  }
 ],
 "metadata": {
  "kernelspec": {
   "display_name": "Python 3",
   "language": "python",
   "name": "python3"
  },
  "language_info": {
   "codemirror_mode": {
    "name": "ipython",
    "version": 3
   },
   "file_extension": ".py",
   "mimetype": "text/x-python",
   "name": "python",
   "nbconvert_exporter": "python",
   "pygments_lexer": "ipython3",
   "version": "3.8.3"
  }
 },
 "nbformat": 4,
 "nbformat_minor": 4
}
